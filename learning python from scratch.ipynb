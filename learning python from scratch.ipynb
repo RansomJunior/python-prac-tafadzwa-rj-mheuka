{
 "cells": [
  {
   "cell_type": "markdown",
   "id": "1cd99768",
   "metadata": {},
   "source": [
    "### Escape characters"
   ]
  },
  {
   "cell_type": "code",
   "execution_count": 1,
   "id": "5b93ad69",
   "metadata": {},
   "outputs": [
    {
     "name": "stdout",
     "output_type": "stream",
     "text": [
      "Hello\n",
      "World\n"
     ]
    }
   ],
   "source": [
    "print('Hello\\nWorld')"
   ]
  },
  {
   "cell_type": "code",
   "execution_count": 3,
   "id": "0ea501e3",
   "metadata": {},
   "outputs": [
    {
     "name": "stdout",
     "output_type": "stream",
     "text": [
      "that\\\n"
     ]
    }
   ],
   "source": [
    "print('that\\\\')"
   ]
  },
  {
   "cell_type": "code",
   "execution_count": 4,
   "id": "45d921e2",
   "metadata": {},
   "outputs": [
    {
     "name": "stdout",
     "output_type": "stream",
     "text": [
      "\\\n"
     ]
    }
   ],
   "source": [
    "print('\\\\')"
   ]
  },
  {
   "cell_type": "code",
   "execution_count": 6,
   "id": "5294e805",
   "metadata": {},
   "outputs": [
    {
     "name": "stdout",
     "output_type": "stream",
     "text": [
      "I am 5'9\" tall\n"
     ]
    }
   ],
   "source": [
    "print('I am 5\\'9\" tall')"
   ]
  },
  {
   "cell_type": "code",
   "execution_count": 7,
   "id": "c03fdd8e",
   "metadata": {},
   "outputs": [
    {
     "name": "stdout",
     "output_type": "stream",
     "text": [
      "Hello\\tworld\n"
     ]
    }
   ],
   "source": [
    "print(r'Hello\\tworld')"
   ]
  },
  {
   "cell_type": "code",
   "execution_count": 8,
   "id": "98973429",
   "metadata": {},
   "outputs": [
    {
     "name": "stdout",
     "output_type": "stream",
     "text": [
      "hello\tworld\n"
     ]
    }
   ],
   "source": [
    "print('hello\\tworld')"
   ]
  },
  {
   "cell_type": "markdown",
   "id": "e43d77e1",
   "metadata": {},
   "source": [
    "### Condictional Statement"
   ]
  },
  {
   "cell_type": "code",
   "execution_count": 9,
   "id": "c63e8ff0",
   "metadata": {},
   "outputs": [
    {
     "data": {
      "text/plain": [
       "True"
      ]
     },
     "execution_count": 9,
     "metadata": {},
     "output_type": "execute_result"
    }
   ],
   "source": [
    "# not equal:\n",
    "5 !=2"
   ]
  },
  {
   "cell_type": "code",
   "execution_count": 10,
   "id": "354a8526",
   "metadata": {},
   "outputs": [
    {
     "data": {
      "text/plain": [
       "True"
      ]
     },
     "execution_count": 10,
     "metadata": {},
     "output_type": "execute_result"
    }
   ],
   "source": [
    "#Greater than:\n",
    "5>2"
   ]
  },
  {
   "cell_type": "code",
   "execution_count": 11,
   "id": "81d24dc5",
   "metadata": {},
   "outputs": [
    {
     "data": {
      "text/plain": [
       "True"
      ]
     },
     "execution_count": 11,
     "metadata": {},
     "output_type": "execute_result"
    }
   ],
   "source": [
    "#Smaller Than:\n",
    "2<5"
   ]
  },
  {
   "cell_type": "code",
   "execution_count": 12,
   "id": "2600eded",
   "metadata": {},
   "outputs": [
    {
     "data": {
      "text/plain": [
       "True"
      ]
     },
     "execution_count": 12,
     "metadata": {},
     "output_type": "execute_result"
    }
   ],
   "source": [
    "#Greater than or equal to:\n",
    "5>=2\n",
    "5>=5"
   ]
  },
  {
   "cell_type": "code",
   "execution_count": 13,
   "id": "33639618",
   "metadata": {},
   "outputs": [
    {
     "data": {
      "text/plain": [
       "True"
      ]
     },
     "execution_count": 13,
     "metadata": {},
     "output_type": "execute_result"
    }
   ],
   "source": [
    "#Less than or equal to:\n",
    "2<=5\n",
    "2<=2"
   ]
  },
  {
   "cell_type": "code",
   "execution_count": 15,
   "id": "70e8fb11",
   "metadata": {},
   "outputs": [
    {
     "data": {
      "text/plain": [
       "False"
      ]
     },
     "execution_count": 15,
     "metadata": {},
     "output_type": "execute_result"
    }
   ],
   "source": [
    "# equal to:\n",
    "3==2"
   ]
  },
  {
   "cell_type": "markdown",
   "id": "32f222e2",
   "metadata": {},
   "source": [
    "### If Statement:"
   ]
  },
  {
   "cell_type": "code",
   "execution_count": 24,
   "id": "8abe8d93",
   "metadata": {},
   "outputs": [
    {
     "name": "stdout",
     "output_type": "stream",
     "text": [
      "Enter 1 or 2: \n",
      "Did you enter a valid number?\n"
     ]
    }
   ],
   "source": [
    "UserInput = input('Enter 1 or 2: ')\n",
    "\n",
    "if UserInput == '1':\n",
    "    print('Hello Tafadzwa')\n",
    "    print('How are you?')\n",
    "elif UserInput == '2':\n",
    "    print('Hello Tracy')\n",
    "    print('How do you do?')\n",
    "else:\n",
    "    print('Did you enter a valid number?')\n"
   ]
  },
  {
   "cell_type": "code",
   "execution_count": 25,
   "id": "8f6d936e",
   "metadata": {},
   "outputs": [],
   "source": [
    "number = 12 if UserInput == '1' else 13"
   ]
  },
  {
   "cell_type": "markdown",
   "id": "e626ed91",
   "metadata": {},
   "source": [
    "### For Loop"
   ]
  },
  {
   "cell_type": "code",
   "execution_count": 26,
   "id": "e42105e1",
   "metadata": {},
   "outputs": [
    {
     "name": "stdout",
     "output_type": "stream",
     "text": [
      "cates\n",
      "dogs\n",
      "rabbits\n",
      "hamsters\n"
     ]
    }
   ],
   "source": [
    "pets = ['cates','dogs','rabbits','hamsters']\n",
    "\n",
    "for mypets in pets:\n",
    "    print(mypets)"
   ]
  },
  {
   "cell_type": "code",
   "execution_count": 28,
   "id": "c595050b",
   "metadata": {},
   "outputs": [
    {
     "name": "stdout",
     "output_type": "stream",
     "text": [
      "0 cates\n",
      "1 dogs\n",
      "2 rabbits\n",
      "3 hamsters\n"
     ]
    }
   ],
   "source": [
    "for index, mypets in enumerate(pets):\n",
    "    print(index, mypets)"
   ]
  },
  {
   "cell_type": "code",
   "execution_count": 29,
   "id": "a5477f45",
   "metadata": {},
   "outputs": [
    {
     "name": "stdout",
     "output_type": "stream",
     "text": [
      "peter\n",
      "John\n"
     ]
    }
   ],
   "source": [
    "age = {'peter':5, 'John':7}\n",
    "for i in age:\n",
    "    print(i)"
   ]
  },
  {
   "cell_type": "code",
   "execution_count": 30,
   "id": "13db6b3a",
   "metadata": {},
   "outputs": [
    {
     "name": "stdout",
     "output_type": "stream",
     "text": [
      "Name = peter, Age = 5\n",
      "Name = John, Age = 7\n"
     ]
    }
   ],
   "source": [
    "for i in age:\n",
    "    print('Name = %s, Age = %d' %(i,age[i]))"
   ]
  },
  {
   "cell_type": "code",
   "execution_count": 31,
   "id": "bd0f6bc0",
   "metadata": {},
   "outputs": [
    {
     "name": "stdout",
     "output_type": "stream",
     "text": [
      "H\n",
      "e\n",
      "l\n",
      "l\n",
      "o\n"
     ]
    }
   ],
   "source": [
    "message = 'Hello'\n",
    "for i in message:\n",
    "    print(i)"
   ]
  },
  {
   "cell_type": "code",
   "execution_count": 32,
   "id": "17cde5e0",
   "metadata": {},
   "outputs": [
    {
     "data": {
      "text/plain": [
       "range(0, 5)"
      ]
     },
     "execution_count": 32,
     "metadata": {},
     "output_type": "execute_result"
    }
   ],
   "source": [
    "range(5)"
   ]
  },
  {
   "cell_type": "code",
   "execution_count": 33,
   "id": "ccb74c06",
   "metadata": {},
   "outputs": [
    {
     "data": {
      "text/plain": [
       "range(0, 5)"
      ]
     },
     "execution_count": 33,
     "metadata": {},
     "output_type": "execute_result"
    }
   ],
   "source": [
    "range(0,5)"
   ]
  },
  {
   "cell_type": "code",
   "execution_count": 34,
   "id": "96cae825",
   "metadata": {},
   "outputs": [
    {
     "name": "stdout",
     "output_type": "stream",
     "text": [
      "0\n",
      "1\n",
      "2\n",
      "3\n",
      "4\n"
     ]
    }
   ],
   "source": [
    "for i in range(5):\n",
    "    print(i)\n",
    "    "
   ]
  },
  {
   "cell_type": "markdown",
   "id": "f97802fc",
   "metadata": {},
   "source": [
    "### While Loop"
   ]
  },
  {
   "cell_type": "code",
   "execution_count": 35,
   "id": "75b25b1c",
   "metadata": {},
   "outputs": [
    {
     "name": "stdout",
     "output_type": "stream",
     "text": [
      "counter =  5\n",
      "counter =  4\n",
      "counter =  3\n",
      "counter =  2\n",
      "counter =  1\n"
     ]
    }
   ],
   "source": [
    "counter = 5\n",
    "\n",
    "while counter >0:\n",
    "    print(\"counter = \", counter)\n",
    "    counter = counter - 1"
   ]
  },
  {
   "cell_type": "code",
   "execution_count": 36,
   "id": "4dd1937b",
   "metadata": {},
   "outputs": [
    {
     "name": "stdout",
     "output_type": "stream",
     "text": [
      "i =  0 ,j =  2\n",
      "i =  1 ,j =  4\n",
      "i =  2 ,j =  6\n"
     ]
    }
   ],
   "source": [
    "j = 0\n",
    "for i in range(5):\n",
    "    j = j+2\n",
    "    print('i = ',i, ',j = ', j)\n",
    "    if j ==6:\n",
    "        break"
   ]
  },
  {
   "cell_type": "code",
   "execution_count": 39,
   "id": "7de1923f",
   "metadata": {},
   "outputs": [
    {
     "name": "stdout",
     "output_type": "stream",
     "text": [
      "\n",
      "i =  0 , j =  2\n",
      "I will be skiped over if j = 6\n",
      "\n",
      "i =  1 , j =  4\n",
      "I will be skiped over if j = 6\n",
      "\n",
      "i =  2 , j =  6\n",
      "\n",
      "i =  3 , j =  8\n",
      "I will be skiped over if j = 6\n",
      "\n",
      "i =  4 , j =  10\n",
      "I will be skiped over if j = 6\n"
     ]
    }
   ],
   "source": [
    "j = 0\n",
    "for i in range(5):\n",
    "    j = j+2\n",
    "    print('\\ni = ',i,', j = ',j)\n",
    "    if j == 6:\n",
    "        continue\n",
    "    print('I will be skiped over if j = 6')"
   ]
  },
  {
   "cell_type": "code",
   "execution_count": 40,
   "id": "57a1b03a",
   "metadata": {},
   "outputs": [
    {
     "name": "stdout",
     "output_type": "stream",
     "text": [
      "An error occured\n"
     ]
    }
   ],
   "source": [
    "try:\n",
    "    answer = 12/0\n",
    "except:\n",
    "    print('An error occured')"
   ]
  },
  {
   "cell_type": "code",
   "execution_count": 45,
   "id": "92a992cf",
   "metadata": {},
   "outputs": [
    {
     "name": "stdout",
     "output_type": "stream",
     "text": [
      "Please enter a Number: 12\n",
      "Please enter another number: 12\n",
      "The answer is 1.0\n",
      "Unkown error:  [Errno 2] No such file or directory: 'missing.txt'\n"
     ]
    }
   ],
   "source": [
    "try:\n",
    "    UserInput1 = int(input(\"Please enter a Number: \"))\n",
    "    UserInput2 = int(input(\"Please enter another number: \"))\n",
    "    answer = UserInput1/UserInput2\n",
    "    print('The answer is',answer)\n",
    "    myFile = open('missing.txt','r')\n",
    "except ValueError:\n",
    "    print('Error: You did not enter a number')\n",
    "except ZeroDivisionError:\n",
    "    print('Error: Cannot divide by zero')\n",
    "except Exception as e:\n",
    "    print('Unkown error: ', e)"
   ]
  },
  {
   "cell_type": "markdown",
   "id": "dd5d56d7",
   "metadata": {},
   "source": []
  },
  {
   "cell_type": "markdown",
   "id": "da710337",
   "metadata": {},
   "source": [
    "1212!@1@"
   ]
  }
 ],
 "metadata": {
  "kernelspec": {
   "display_name": "Python 3 (ipykernel)",
   "language": "python",
   "name": "python3"
  },
  "language_info": {
   "codemirror_mode": {
    "name": "ipython",
    "version": 3
   },
   "file_extension": ".py",
   "mimetype": "text/x-python",
   "name": "python",
   "nbconvert_exporter": "python",
   "pygments_lexer": "ipython3",
   "version": "3.9.7"
  }
 },
 "nbformat": 4,
 "nbformat_minor": 5
}
